{
 "cells": [
  {
   "cell_type": "code",
   "execution_count": 1,
   "id": "59dc4298-db07-4414-8f63-b969cdc5f395",
   "metadata": {},
   "outputs": [
    {
     "name": "stdout",
     "output_type": "stream",
     "text": [
      "Requirement already satisfied: pandas in ./.venv/lib/python3.12/site-packages (2.2.3)\n",
      "Requirement already satisfied: pyarrow in ./.venv/lib/python3.12/site-packages (18.0.0)\n",
      "Requirement already satisfied: numpy>=1.26.0 in ./.venv/lib/python3.12/site-packages (from pandas) (1.26.4)\n",
      "Requirement already satisfied: python-dateutil>=2.8.2 in ./.venv/lib/python3.12/site-packages (from pandas) (2.9.0.post0)\n",
      "Requirement already satisfied: pytz>=2020.1 in ./.venv/lib/python3.12/site-packages (from pandas) (2024.2)\n",
      "Requirement already satisfied: tzdata>=2022.7 in ./.venv/lib/python3.12/site-packages (from pandas) (2024.2)\n",
      "Requirement already satisfied: six>=1.5 in ./.venv/lib/python3.12/site-packages (from python-dateutil>=2.8.2->pandas) (1.16.0)\n",
      "Note: you may need to restart the kernel to use updated packages.\n"
     ]
    }
   ],
   "source": [
    "pip install pandas pyarrow\n"
   ]
  },
  {
   "cell_type": "code",
   "execution_count": 2,
   "id": "e2cc8483-e8d5-49a1-aff8-c9e1087f1de5",
   "metadata": {},
   "outputs": [
    {
     "name": "stdout",
     "output_type": "stream",
     "text": [
      "File converted to train.csv\n"
     ]
    }
   ],
   "source": [
    "import pandas as pd\n",
    "\n",
    "# Load the Parquet file\n",
    "parquet_file = 'train-00000-of-00001.parquet'\n",
    "data = pd.read_parquet(parquet_file)\n",
    "\n",
    "# Save to CSV\n",
    "csv_file = 'train.csv'\n",
    "data.to_csv(csv_file, index=False)\n",
    "\n",
    "print(f\"File converted to {csv_file}\")\n"
   ]
  },
  {
   "cell_type": "code",
   "execution_count": 3,
   "id": "4c664689-eb49-4921-b86d-507b5b22417d",
   "metadata": {},
   "outputs": [
    {
     "data": {
      "text/html": [
       "<a href='train.csv' target='_blank'>train.csv</a><br>"
      ],
      "text/plain": [
       "/home/katherine/Downloads/train.csv"
      ]
     },
     "execution_count": 3,
     "metadata": {},
     "output_type": "execute_result"
    }
   ],
   "source": [
    "\n",
    "# Use Jupyter's file download widget\n",
    "from IPython.display import FileLink\n",
    "\n",
    "# Display the direct download option\n",
    "FileLink(csv_file)\n",
    "\n"
   ]
  },
  {
   "cell_type": "code",
   "execution_count": 4,
   "id": "f6ee641c-859a-4899-9d4c-fc343447e11b",
   "metadata": {},
   "outputs": [
    {
     "name": "stdout",
     "output_type": "stream",
     "text": [
      "Emotions1 DataFrame Head:\n",
      "                                                text  label\n",
      "0      i just feel really helpless and heavy hearted      4\n",
      "1  ive enjoyed being able to slouch about relax a...      0\n",
      "2  i gave up my internship with the dmrg and am f...      4\n",
      "3                         i dont know i feel so lost      0\n",
      "4  i am a kindergarten teacher and i am thoroughl...      4\n",
      "\n",
      "Emotions2 DataFrame Head:\n",
      "                                                text  emotion\n",
      "0  i should have been at the pub instead of which...  sadness\n",
      "1  ill just have to make some local friends i can...    anger\n",
      "2                                i didnt feel so hot     love\n",
      "3  i would further suggest people might feel more...     love\n",
      "4                i am feeling irritable cranky often    anger\n"
     ]
    }
   ],
   "source": [
    "import pandas as pd\n",
    "\n",
    "# Read the CSV files\n",
    "emotions1_df = pd.read_csv('emotions.csv')\n",
    "emotions2_df = pd.read_csv('train.csv')\n",
    "\n",
    "# Print the first few rows of each dataframe\n",
    "print(\"Emotions1 DataFrame Head:\")\n",
    "print(emotions1_df.head())\n",
    "\n",
    "print(\"\\nEmotions2 DataFrame Head:\")\n",
    "print(emotions2_df.head())\n"
   ]
  },
  {
   "cell_type": "code",
   "execution_count": 5,
   "id": "920d31ae-f3f5-432f-93de-c0686ec49d04",
   "metadata": {},
   "outputs": [
    {
     "name": "stdout",
     "output_type": "stream",
     "text": [
      "Emotions DataFrame with Categorical Labels:\n",
      "                                                text    label\n",
      "0      i just feel really helpless and heavy hearted     fear\n",
      "1  ive enjoyed being able to slouch about relax a...  sadness\n",
      "2  i gave up my internship with the dmrg and am f...     fear\n",
      "3                         i dont know i feel so lost  sadness\n",
      "4  i am a kindergarten teacher and i am thoroughl...     fear\n"
     ]
    }
   ],
   "source": [
    "# Define a mapping from numeric labels to emotion words\n",
    "label_mapping = {\n",
    "    0: 'sadness',\n",
    "    1: 'joy',\n",
    "    2: 'love',\n",
    "    3: 'anger',\n",
    "    4: 'fear',\n",
    "    5: 'surprise'\n",
    "}\n",
    "\n",
    "# Apply the mapping to the 'label' column\n",
    "emotions1_df['label'] = emotions1_df['label'].map(label_mapping)\n",
    "\n",
    "# Print the first few rows to verify the change\n",
    "print(\"Emotions DataFrame with Categorical Labels:\")\n",
    "print(emotions1_df.head())"
   ]
  },
  {
   "cell_type": "code",
   "execution_count": 6,
   "id": "a2a9550f-d31b-4e02-9049-46524400598c",
   "metadata": {},
   "outputs": [
    {
     "name": "stdout",
     "output_type": "stream",
     "text": [
      "                                                text    label\n",
      "0  i should have been at the pub instead of which...  sadness\n",
      "1  ill just have to make some local friends i can...    anger\n",
      "2                                i didnt feel so hot     love\n",
      "3  i would further suggest people might feel more...     love\n",
      "4                i am feeling irritable cranky often    anger\n"
     ]
    }
   ],
   "source": [
    "# Rename the column 'emotions' to 'label' in train_df\n",
    "emotions2_df = emotions2_df.rename(columns={'emotion': 'label'})\n",
    "\n",
    "# Verify the change\n",
    "print(emotions2_df.head())\n"
   ]
  },
  {
   "cell_type": "code",
   "execution_count": 7,
   "id": "edf7e418-cff8-4436-8c89-cbbd9091b3d0",
   "metadata": {},
   "outputs": [
    {
     "name": "stdout",
     "output_type": "stream",
     "text": [
      "Number of rows in emotions_df: 416809\n",
      "Number of rows in train_df: 3432\n"
     ]
    }
   ],
   "source": [
    "# Count rows before appending\n",
    "emotions1_count = emotions1_df.shape[0]\n",
    "emotions2_count = emotions2_df.shape[0]\n",
    "print(f\"Number of rows in emotions_df: {emotions1_count}\")\n",
    "print(f\"Number of rows in train_df: {emotions2_count}\")"
   ]
  },
  {
   "cell_type": "code",
   "execution_count": 8,
   "id": "86a5c486-8370-4ce0-a439-e8e348c5de6b",
   "metadata": {},
   "outputs": [
    {
     "name": "stdout",
     "output_type": "stream",
     "text": [
      "Combined DataFrame:\n",
      "                                                text    label\n",
      "0      i just feel really helpless and heavy hearted     fear\n",
      "1  ive enjoyed being able to slouch about relax a...  sadness\n",
      "2  i gave up my internship with the dmrg and am f...     fear\n",
      "3                         i dont know i feel so lost  sadness\n",
      "4  i am a kindergarten teacher and i am thoroughl...     fear\n",
      "Number of rows in emotions_df: 420241\n"
     ]
    }
   ],
   "source": [
    "# Ensure they have the same columns if needed\n",
    "combined_df = pd.concat([emotions1_df, emotions2_df], ignore_index=True)\n",
    "\n",
    "# Print the first few rows of the combined dataframe\n",
    "print(\"Combined DataFrame:\")\n",
    "print(combined_df.head())\n",
    "\n",
    "emotions_count = combined_df.shape[0]\n",
    "print(f\"Number of rows in emotions_df: {emotions_count}\")"
   ]
  },
  {
   "cell_type": "code",
   "execution_count": 9,
   "id": "3bb36f67-b70d-4111-a68f-fc9d4462ee3e",
   "metadata": {},
   "outputs": [
    {
     "name": "stderr",
     "output_type": "stream",
     "text": [
      "[nltk_data] Downloading package stopwords to\n",
      "[nltk_data]     /home/katherine/nltk_data...\n",
      "[nltk_data]   Package stopwords is already up-to-date!\n",
      "[nltk_data] Downloading package wordnet to\n",
      "[nltk_data]     /home/katherine/nltk_data...\n",
      "[nltk_data]   Package wordnet is already up-to-date!\n"
     ]
    }
   ],
   "source": [
    "import pandas as pd\n",
    "import re\n",
    "import nltk\n",
    "from nltk.corpus import stopwords\n",
    "from nltk.stem import WordNetLemmatizer, PorterStemmer\n",
    "\n",
    "# Download necessary NLTK data files\n",
    "nltk.download('stopwords')\n",
    "nltk.download('wordnet')\n",
    "\n",
    "# Initialize lemmatizer, stemmer, and stop words list\n",
    "lemmatizer = WordNetLemmatizer()\n",
    "stemmer = PorterStemmer()\n",
    "stop_words = set(stopwords.words('english'))\n",
    "\n",
    "# Define the text preprocessing function with stemming\n",
    "def preprocess_text(text):\n",
    "    # Lowercase the text\n",
    "    text = text.lower()\n",
    "    \n",
    "    # Remove special characters, digits, and punctuation\n",
    "    text = re.sub(r'[^a-z\\s]', '', text)\n",
    "    \n",
    "    # Tokenize the text into words\n",
    "    words = text.split()\n",
    "    \n",
    "    # Remove lemmatize, and stem remaining words\n",
    "    processed_words = [\n",
    "        stemmer.stem(lemmatizer.lemmatize(word))  # Apply both lemmatization and stemming\n",
    "        for word in words if len(word) > 1 # Remove one letter words like \"t\"\n",
    "    ]\n",
    "    \n",
    "    # Join words back into a single string\n",
    "    return ' '.join(processed_words)\n"
   ]
  },
  {
   "cell_type": "code",
   "execution_count": 10,
   "id": "275cf0a4-a6a4-4aac-9399-707e07a0c472",
   "metadata": {},
   "outputs": [
    {
     "name": "stdout",
     "output_type": "stream",
     "text": [
      "\n",
      "Updated Combined DataFrame with processed text:\n",
      "                                                text    label  \\\n",
      "0      i just feel really helpless and heavy hearted     fear   \n",
      "1  ive enjoyed being able to slouch about relax a...  sadness   \n",
      "2  i gave up my internship with the dmrg and am f...     fear   \n",
      "3                         i dont know i feel so lost  sadness   \n",
      "4  i am a kindergarten teacher and i am thoroughl...     fear   \n",
      "\n",
      "                                   preprocessed_text  \n",
      "0          just feel realli helpless and heavi heart  \n",
      "1  ive enjoy be abl to slouch about relax and unw...  \n",
      "2  gave up my internship with the dmrg and am fee...  \n",
      "3                             dont know feel so lost  \n",
      "4  am kindergarten teacher and am thoroughli wear...  \n"
     ]
    }
   ],
   "source": [
    "# Apply the preprocessing function to the 'text' column in the combined DataFrame\n",
    "combined_df['preprocessed_text'] = combined_df['text'].apply(preprocess_text)\n",
    "# Print the first few rows of the updated DataFrame\n",
    "print(\"\\nUpdated Combined DataFrame with processed text:\")\n",
    "print(combined_df.head())"
   ]
  },
  {
   "cell_type": "code",
   "execution_count": 11,
   "id": "0f7f02d1-2887-41ab-aeb9-ec9cfa68e976",
   "metadata": {},
   "outputs": [],
   "source": [
    "combined_df.to_csv('processed_emotions_dataset.csv')"
   ]
  },
  {
   "cell_type": "code",
   "execution_count": 33,
   "id": "360b7d52-0655-4581-afa6-a2de83d67029",
   "metadata": {},
   "outputs": [],
   "source": []
  }
 ],
 "metadata": {
  "kernelspec": {
   "display_name": "Python 3 (ipykernel)",
   "language": "python",
   "name": "python3"
  },
  "language_info": {
   "codemirror_mode": {
    "name": "ipython",
    "version": 3
   },
   "file_extension": ".py",
   "mimetype": "text/x-python",
   "name": "python",
   "nbconvert_exporter": "python",
   "pygments_lexer": "ipython3",
   "version": "3.12.4"
  }
 },
 "nbformat": 4,
 "nbformat_minor": 5
}
