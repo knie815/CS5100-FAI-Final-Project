{
 "cells": [
  {
   "cell_type": "code",
   "execution_count": 2,
   "id": "9c35f9be-3b15-4602-be6c-2a993fd8bb09",
   "metadata": {},
   "outputs": [],
   "source": [
    "from gensim import corpora\n",
    "from gensim.models import LdaModel\n",
    "from gensim.models.coherencemodel import CoherenceModel\n",
    "from pprint import pprint"
   ]
  },
  {
   "cell_type": "code",
   "execution_count": 4,
   "id": "b0833b2f-36eb-41f4-b87e-a63f231c0f1a",
   "metadata": {},
   "outputs": [],
   "source": [
    "documents = [\n",
    "    \"Machine learning is an exciting field with endless possibilities.\",\n",
    "    \"Natural language processing helps computers understand human language.\",\n",
    "    \"Deep learning algorithms are used in various applications such as image recognition and speech synthesis.\",\n",
    "    \"Data science involves extracting insights from data through statistical analysis and machine learning techniques.\"\n",
    "]"
   ]
  },
  {
   "cell_type": "code",
   "execution_count": 8,
   "id": "13aa0d0f-ebb3-48bb-8be7-4c02479af013",
   "metadata": {},
   "outputs": [
    {
     "data": {
      "text/plain": [
       "[['machine',\n",
       "  'learning',\n",
       "  'is',\n",
       "  'an',\n",
       "  'exciting',\n",
       "  'field',\n",
       "  'with',\n",
       "  'endless',\n",
       "  'possibilities.'],\n",
       " ['natural',\n",
       "  'language',\n",
       "  'processing',\n",
       "  'helps',\n",
       "  'computers',\n",
       "  'understand',\n",
       "  'human',\n",
       "  'language.'],\n",
       " ['deep',\n",
       "  'learning',\n",
       "  'algorithms',\n",
       "  'are',\n",
       "  'used',\n",
       "  'in',\n",
       "  'various',\n",
       "  'applications',\n",
       "  'such',\n",
       "  'as',\n",
       "  'image',\n",
       "  'recognition',\n",
       "  'and',\n",
       "  'speech',\n",
       "  'synthesis.'],\n",
       " ['data',\n",
       "  'science',\n",
       "  'involves',\n",
       "  'extracting',\n",
       "  'insights',\n",
       "  'from',\n",
       "  'data',\n",
       "  'through',\n",
       "  'statistical',\n",
       "  'analysis',\n",
       "  'and',\n",
       "  'machine',\n",
       "  'learning',\n",
       "  'techniques.']]"
      ]
     },
     "execution_count": 8,
     "metadata": {},
     "output_type": "execute_result"
    }
   ],
   "source": [
    "tokenized_docs = [doc.lower().split() for doc in documents]\n",
    "tokenized_docs"
   ]
  },
  {
   "cell_type": "code",
   "execution_count": 20,
   "id": "3546bf25-78b4-43ee-b76a-d0478afc06e9",
   "metadata": {},
   "outputs": [
    {
     "data": {
      "text/plain": [
       "<gensim.corpora.dictionary.Dictionary at 0x1fe966284d0>"
      ]
     },
     "execution_count": 20,
     "metadata": {},
     "output_type": "execute_result"
    }
   ],
   "source": [
    "dictionary = corpora.Dictionary(tokenized_docs)"
   ]
  },
  {
   "cell_type": "code",
   "execution_count": 22,
   "id": "4a707549-eaa5-4193-af27-05bee65998d3",
   "metadata": {},
   "outputs": [
    {
     "data": {
      "text/plain": [
       "[[(0, 1), (1, 1), (2, 1), (3, 1), (4, 1), (5, 1), (6, 1), (7, 1), (8, 1)],\n",
       " [(9, 1), (10, 1), (11, 1), (12, 1), (13, 1), (14, 1), (15, 1), (16, 1)],\n",
       " [(5, 1),\n",
       "  (17, 1),\n",
       "  (18, 1),\n",
       "  (19, 1),\n",
       "  (20, 1),\n",
       "  (21, 1),\n",
       "  (22, 1),\n",
       "  (23, 1),\n",
       "  (24, 1),\n",
       "  (25, 1),\n",
       "  (26, 1),\n",
       "  (27, 1),\n",
       "  (28, 1),\n",
       "  (29, 1),\n",
       "  (30, 1)],\n",
       " [(5, 1),\n",
       "  (6, 1),\n",
       "  (18, 1),\n",
       "  (31, 1),\n",
       "  (32, 2),\n",
       "  (33, 1),\n",
       "  (34, 1),\n",
       "  (35, 1),\n",
       "  (36, 1),\n",
       "  (37, 1),\n",
       "  (38, 1),\n",
       "  (39, 1),\n",
       "  (40, 1)]]"
      ]
     },
     "execution_count": 22,
     "metadata": {},
     "output_type": "execute_result"
    }
   ],
   "source": [
    "corpus = [dictionary.doc2bow(doc) for doc in tokenized_docs]\n",
    "corpus"
   ]
  },
  {
   "cell_type": "code",
   "execution_count": 32,
   "id": "aabb7e3a-382d-43c5-b1a8-0fbce01aeb7d",
   "metadata": {},
   "outputs": [],
   "source": [
    "lda_model = LdaModel(corpus, num_topics=4, id2word=dictionary)"
   ]
  },
  {
   "cell_type": "code",
   "execution_count": 33,
   "id": "15bf4ead-5b79-4c2a-9f7e-ac91ce3ed131",
   "metadata": {},
   "outputs": [
    {
     "data": {
      "text/plain": [
       "[(0,\n",
       "  '0.025*\"learning\" + 0.025*\"possibilities.\" + 0.025*\"computers\" + 0.025*\"machine\" + 0.024*\"understand\" + 0.024*\"is\" + 0.024*\"processing\" + 0.024*\"and\" + 0.024*\"human\" + 0.024*\"language.\"'),\n",
       " (1,\n",
       "  '0.052*\"learning\" + 0.047*\"algorithms\" + 0.046*\"deep\" + 0.045*\"and\" + 0.045*\"image\" + 0.044*\"various\" + 0.044*\"such\" + 0.043*\"synthesis.\" + 0.043*\"used\" + 0.043*\"recognition\"'),\n",
       " (2,\n",
       "  '0.040*\"speech\" + 0.039*\"applications\" + 0.039*\"as\" + 0.037*\"are\" + 0.037*\"in\" + 0.037*\"recognition\" + 0.036*\"used\" + 0.036*\"synthesis.\" + 0.035*\"such\" + 0.034*\"various\"'),\n",
       " (3,\n",
       "  '0.056*\"data\" + 0.053*\"machine\" + 0.052*\"learning\" + 0.031*\"language\" + 0.031*\"natural\" + 0.031*\"human\" + 0.031*\"processing\" + 0.031*\"language.\" + 0.031*\"helps\" + 0.031*\"understand\"')]"
      ]
     },
     "execution_count": 33,
     "metadata": {},
     "output_type": "execute_result"
    }
   ],
   "source": [
    "lda_model.print_topics()"
   ]
  },
  {
   "cell_type": "code",
   "execution_count": 18,
   "id": "94599d03-55dd-4231-b2b0-2eb8875d44a8",
   "metadata": {},
   "outputs": [
    {
     "name": "stdout",
     "output_type": "stream",
     "text": [
      "coherence_score: 0.4174305807313057\n"
     ]
    }
   ],
   "source": [
    "coherence_model = CoherenceModel(model=lda_model, texts=tokenized_docs, dictionary=dictionary, coherence='c_v')\n",
    "coherence_score = coherence_model.get_coherence()\n",
    "print(f\"coherence_score: {coherence_score}\")"
   ]
  },
  {
   "cell_type": "code",
   "execution_count": null,
   "id": "acacba21-cb50-47fc-826b-e33ea6bc3d12",
   "metadata": {},
   "outputs": [],
   "source": []
  }
 ],
 "metadata": {
  "kernelspec": {
   "display_name": "Python 3 (ipykernel)",
   "language": "python",
   "name": "python3"
  },
  "language_info": {
   "codemirror_mode": {
    "name": "ipython",
    "version": 3
   },
   "file_extension": ".py",
   "mimetype": "text/x-python",
   "name": "python",
   "nbconvert_exporter": "python",
   "pygments_lexer": "ipython3",
   "version": "3.11.9"
  }
 },
 "nbformat": 4,
 "nbformat_minor": 5
}
