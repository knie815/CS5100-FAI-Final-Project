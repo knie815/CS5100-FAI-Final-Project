{
  "nbformat": 4,
  "nbformat_minor": 0,
  "metadata": {
    "colab": {
      "provenance": []
    },
    "kernelspec": {
      "name": "python3",
      "display_name": "Python 3"
    },
    "language_info": {
      "name": "python"
    }
  },
  "cells": [
    {
      "cell_type": "code",
      "execution_count": null,
      "metadata": {
        "id": "s7IpVqTUU29u"
      },
      "outputs": [],
      "source": [
        "import numpy as np\n",
        "import pandas as pd\n",
        "from sklearn.feature_extraction.text import TfidfVectorizer\n",
        "from sklearn.model_selection import train_test_split\n",
        "from sklearn.ensemble import RandomForestClassifier\n",
        "from sklearn.metrics import accuracy_score\n",
        "from nltk.tokenize import word_tokenize\n",
        "from nltk.corpus import stopwords\n",
        "import nltk\n",
        "\n",
        "nltk.download('punkt')\n",
        "nltk.download('stopwords')\n",
        "\n",
        "stop_words = set(stopwords.words('english'))\n",
        "negation_words = ['not', \"don't\", 'no', 'never', \"can't\", \"won't\"]\n",
        "\n",
        "def preprocess_text(text):\n",
        "    tokens = word_tokenize(text.lower())\n",
        "    filtered_tokens = []\n",
        "    negation = False\n",
        "    for word in tokens:\n",
        "        if word in negation_words:\n",
        "            negation = not negation\n",
        "            continue\n",
        "        if word.isalpha() and word not in stop_words:\n",
        "            if negation:\n",
        "                word = 'not_' + word\n",
        "            filtered_tokens.append(word)\n",
        "            negation = False\n",
        "    return \" \".join(filtered_tokens)\n",
        "\n",
        "\n",
        "data = pd.read_csv(\"emotions.csv\")\n",
        "data['processed_text'] = data['text'].apply(preprocess_text)\n",
        "\n",
        "\n",
        "numeric_to_string_mapping = {\n",
        "    0: 'sadness',\n",
        "    1: 'joy',\n",
        "    2: 'love',\n",
        "    3: 'anger',\n",
        "    4: 'fear',\n",
        "    5: 'surprise'\n",
        "}\n",
        "label_mapping = {label: idx for idx, label in enumerate(numeric_to_string_mapping.values())}\n",
        "data['label'] = data['label'].map(numeric_to_string_mapping)\n",
        "\n",
        "X = data['processed_text']\n",
        "y = data['label'].map(label_mapping).values\n",
        "\n",
        "X_train, X_test, y_train, y_test = train_test_split(X, y, test_size=0.2, random_state=42)\n",
        "\n",
        "\n",
        "tfidf_vectorizer = TfidfVectorizer(max_features=300)\n",
        "X_train_tfidf = tfidf_vectorizer.fit_transform(X_train).toarray()\n",
        "X_test_tfidf = tfidf_vectorizer.transform(X_test).toarray()\n",
        "\n",
        "\n",
        "clf = RandomForestClassifier(n_estimators=100, random_state=42)\n",
        "clf.fit(X_train_tfidf, y_train)\n",
        "\n",
        "y_pred = clf.predict(X_test_tfidf)\n",
        "accuracy = accuracy_score(y_test, y_pred)\n",
        "print(f\"Model Accuracy with Random Forest: {accuracy * 100:.2f}%\")\n"
      ]
    }
  ]
}